{
 "cells": [
  {
   "cell_type": "code",
   "execution_count": 79,
   "id": "2c55b4db",
   "metadata": {},
   "outputs": [],
   "source": [
    "from __future__ import print_function"
   ]
  },
  {
   "cell_type": "code",
   "execution_count": 80,
   "id": "e5f90abb",
   "metadata": {},
   "outputs": [],
   "source": [
    "from sklearn.neighbors import KNeighborsClassifier\n",
    "from sklearn.linear_model import LogisticRegression\n",
    "from sklearn import metrics\n",
    "from sklearn.model_selection import cross_val_score, train_test_split, RepeatedStratifiedKFold, GridSearchCV\n",
    "from sklearn.metrics import precision_score, recall_score, accuracy_score, roc_auc_score, confusion_matrix\n",
    "from sklearn.preprocessing import StandardScaler\n",
    "from sklearn.ensemble import RandomForestClassifier\n",
    "import pandas as pd\n",
    "import numpy as np\n",
    "\n",
    "\n",
    "import matplotlib.pyplot as plt\n",
    "import seaborn as sns\n",
    "plt.style.use('fivethirtyeight')\n",
    "\n",
    "%matplotlib inline"
   ]
  },
  {
   "cell_type": "code",
   "execution_count": 81,
   "id": "44275e0f",
   "metadata": {
    "scrolled": true
   },
   "outputs": [
    {
     "name": "stdout",
     "output_type": "stream",
     "text": [
      "<class 'pandas.core.frame.DataFrame'>\n",
      "RangeIndex: 132327 entries, 0 to 132326\n",
      "Data columns (total 28 columns):\n",
      " #   Column                Non-Null Count   Dtype  \n",
      "---  ------                --------------   -----  \n",
      " 0   year                  132327 non-null  int64  \n",
      " 1   unitid                132327 non-null  int64  \n",
      " 2   institution_name      132327 non-null  object \n",
      " 3   city_txt              132282 non-null  object \n",
      " 4   state_cd              132282 non-null  object \n",
      " 5   zip_text              132282 non-null  float64\n",
      " 6   classification_code   132327 non-null  int64  \n",
      " 7   classification_name   132327 non-null  object \n",
      " 8   classification_other  1685 non-null    object \n",
      " 9   ef_male_count         132327 non-null  int64  \n",
      " 10  ef_female_count       132327 non-null  int64  \n",
      " 11  ef_total_count        132327 non-null  int64  \n",
      " 12  sector_cd             132327 non-null  int64  \n",
      " 13  sector_name           132282 non-null  object \n",
      " 14  sportscode            132327 non-null  int64  \n",
      " 15  partic_men            61865 non-null   float64\n",
      " 16  partic_women          68885 non-null   float64\n",
      " 17  partic_coed_men       767 non-null     float64\n",
      " 18  partic_coed_women     767 non-null     float64\n",
      " 19  sum_partic_men        132327 non-null  int64  \n",
      " 20  sum_partic_women      132327 non-null  int64  \n",
      " 21  rev_men               61865 non-null   float64\n",
      " 22  rev_women             68883 non-null   float64\n",
      " 23  total_rev_menwomen    87134 non-null   float64\n",
      " 24  exp_men               61865 non-null   float64\n",
      " 25  exp_women             68885 non-null   float64\n",
      " 26  total_exp_menwomen    87136 non-null   float64\n",
      " 27  sports                132327 non-null  object \n",
      "dtypes: float64(11), int64(10), object(7)\n",
      "memory usage: 28.3+ MB\n"
     ]
    },
    {
     "name": "stderr",
     "output_type": "stream",
     "text": [
      "/tmp/ipykernel_566/2033913671.py:3: DtypeWarning: Columns (8) have mixed types. Specify dtype option on import or set low_memory=False.\n",
      "  df = pd.read_csv('sports.csv')\n"
     ]
    }
   ],
   "source": [
    "# importing dataframe\n",
    "\n",
    "df = pd.read_csv('sports.csv')\n",
    "\n",
    "df.info()"
   ]
  },
  {
   "cell_type": "code",
   "execution_count": 82,
   "id": "296ca8d4",
   "metadata": {},
   "outputs": [
    {
     "name": "stdout",
     "output_type": "stream",
     "text": [
      "<class 'pandas.core.frame.DataFrame'>\n",
      "Int64Index: 43614 entries, 1 to 132326\n",
      "Data columns (total 28 columns):\n",
      " #   Column                Non-Null Count  Dtype  \n",
      "---  ------                --------------  -----  \n",
      " 0   year                  43614 non-null  int64  \n",
      " 1   unitid                43614 non-null  int64  \n",
      " 2   institution_name      43614 non-null  object \n",
      " 3   city_txt              43584 non-null  object \n",
      " 4   state_cd              43584 non-null  object \n",
      " 5   zip_text              43584 non-null  float64\n",
      " 6   classification_code   43614 non-null  int64  \n",
      " 7   classification_name   43614 non-null  object \n",
      " 8   classification_other  940 non-null    object \n",
      " 9   ef_male_count         43614 non-null  int64  \n",
      " 10  ef_female_count       43614 non-null  int64  \n",
      " 11  ef_total_count        43614 non-null  int64  \n",
      " 12  sector_cd             43614 non-null  int64  \n",
      " 13  sector_name           43584 non-null  object \n",
      " 14  sportscode            43614 non-null  int64  \n",
      " 15  partic_men            43614 non-null  float64\n",
      " 16  partic_women          43614 non-null  float64\n",
      " 17  partic_coed_men       16 non-null     float64\n",
      " 18  partic_coed_women     16 non-null     float64\n",
      " 19  sum_partic_men        43614 non-null  int64  \n",
      " 20  sum_partic_women      43614 non-null  int64  \n",
      " 21  rev_men               43614 non-null  float64\n",
      " 22  rev_women             43614 non-null  float64\n",
      " 23  total_rev_menwomen    43614 non-null  float64\n",
      " 24  exp_men               43614 non-null  float64\n",
      " 25  exp_women             43614 non-null  float64\n",
      " 26  total_exp_menwomen    43614 non-null  float64\n",
      " 27  sports                43614 non-null  object \n",
      "dtypes: float64(11), int64(10), object(7)\n",
      "memory usage: 9.6+ MB\n"
     ]
    }
   ],
   "source": [
    "# dropping rows that have na values in men or women revenue\n",
    "df = df.dropna(subset = ['rev_women', 'rev_men'])\n",
    "df.info()"
   ]
  },
  {
   "cell_type": "code",
   "execution_count": 83,
   "id": "41fdf119",
   "metadata": {},
   "outputs": [],
   "source": [
    "# dropping non-critical columns\n",
    "df = df.drop(columns = ['unitid', 'zip_text','sector_name', 'classification_other', 'city_txt', 'institution_name', 'classification_code', 'classification_other', 'ef_total_count', 'sum_partic_men', 'sum_partic_women', 'total_rev_menwomen', 'total_exp_menwomen', 'sector_cd', 'partic_coed_men', 'sportscode', 'partic_coed_women'])"
   ]
  },
  {
   "cell_type": "code",
   "execution_count": 84,
   "id": "aa4b2ec3",
   "metadata": {},
   "outputs": [
    {
     "data": {
      "text/html": [
       "<div>\n",
       "<style scoped>\n",
       "    .dataframe tbody tr th:only-of-type {\n",
       "        vertical-align: middle;\n",
       "    }\n",
       "\n",
       "    .dataframe tbody tr th {\n",
       "        vertical-align: top;\n",
       "    }\n",
       "\n",
       "    .dataframe thead th {\n",
       "        text-align: right;\n",
       "    }\n",
       "</style>\n",
       "<table border=\"1\" class=\"dataframe\">\n",
       "  <thead>\n",
       "    <tr style=\"text-align: right;\">\n",
       "      <th></th>\n",
       "      <th>year</th>\n",
       "      <th>state_cd</th>\n",
       "      <th>classification_name</th>\n",
       "      <th>ef_male_count</th>\n",
       "      <th>ef_female_count</th>\n",
       "      <th>partic_men</th>\n",
       "      <th>partic_women</th>\n",
       "      <th>rev_men</th>\n",
       "      <th>rev_women</th>\n",
       "      <th>exp_men</th>\n",
       "      <th>exp_women</th>\n",
       "      <th>sports</th>\n",
       "      <th>gender</th>\n",
       "    </tr>\n",
       "  </thead>\n",
       "  <tbody>\n",
       "    <tr>\n",
       "      <th>1</th>\n",
       "      <td>2015</td>\n",
       "      <td>AL</td>\n",
       "      <td>NCAA Division I-FCS</td>\n",
       "      <td>1923</td>\n",
       "      <td>2300</td>\n",
       "      <td>19.0</td>\n",
       "      <td>16.0</td>\n",
       "      <td>1211095.0</td>\n",
       "      <td>748833.0</td>\n",
       "      <td>817868.0</td>\n",
       "      <td>742460.0</td>\n",
       "      <td>Basketball</td>\n",
       "      <td>1</td>\n",
       "    </tr>\n",
       "    <tr>\n",
       "      <th>2</th>\n",
       "      <td>2015</td>\n",
       "      <td>AL</td>\n",
       "      <td>NCAA Division I-FCS</td>\n",
       "      <td>1923</td>\n",
       "      <td>2300</td>\n",
       "      <td>61.0</td>\n",
       "      <td>46.0</td>\n",
       "      <td>183333.0</td>\n",
       "      <td>315574.0</td>\n",
       "      <td>246949.0</td>\n",
       "      <td>251184.0</td>\n",
       "      <td>All Track Combined</td>\n",
       "      <td>0</td>\n",
       "    </tr>\n",
       "    <tr>\n",
       "      <th>7</th>\n",
       "      <td>2015</td>\n",
       "      <td>AL</td>\n",
       "      <td>NCAA Division I-FCS</td>\n",
       "      <td>1923</td>\n",
       "      <td>2300</td>\n",
       "      <td>7.0</td>\n",
       "      <td>10.0</td>\n",
       "      <td>78274.0</td>\n",
       "      <td>131145.0</td>\n",
       "      <td>99612.0</td>\n",
       "      <td>113886.0</td>\n",
       "      <td>Tennis</td>\n",
       "      <td>0</td>\n",
       "    </tr>\n",
       "    <tr>\n",
       "      <th>11</th>\n",
       "      <td>2015</td>\n",
       "      <td>AL</td>\n",
       "      <td>NCAA Division I-FBS</td>\n",
       "      <td>3397</td>\n",
       "      <td>4862</td>\n",
       "      <td>13.0</td>\n",
       "      <td>20.0</td>\n",
       "      <td>4189826.0</td>\n",
       "      <td>1966556.0</td>\n",
       "      <td>4189826.0</td>\n",
       "      <td>1962579.0</td>\n",
       "      <td>Basketball</td>\n",
       "      <td>1</td>\n",
       "    </tr>\n",
       "    <tr>\n",
       "      <th>13</th>\n",
       "      <td>2015</td>\n",
       "      <td>AL</td>\n",
       "      <td>NCAA Division I-FBS</td>\n",
       "      <td>3397</td>\n",
       "      <td>4862</td>\n",
       "      <td>10.0</td>\n",
       "      <td>7.0</td>\n",
       "      <td>407728.0</td>\n",
       "      <td>346987.0</td>\n",
       "      <td>407728.0</td>\n",
       "      <td>345979.0</td>\n",
       "      <td>Golf</td>\n",
       "      <td>1</td>\n",
       "    </tr>\n",
       "  </tbody>\n",
       "</table>\n",
       "</div>"
      ],
      "text/plain": [
       "    year state_cd  classification_name  ef_male_count  ef_female_count  \\\n",
       "1   2015       AL  NCAA Division I-FCS           1923             2300   \n",
       "2   2015       AL  NCAA Division I-FCS           1923             2300   \n",
       "7   2015       AL  NCAA Division I-FCS           1923             2300   \n",
       "11  2015       AL  NCAA Division I-FBS           3397             4862   \n",
       "13  2015       AL  NCAA Division I-FBS           3397             4862   \n",
       "\n",
       "    partic_men  partic_women    rev_men  rev_women    exp_men  exp_women  \\\n",
       "1         19.0          16.0  1211095.0   748833.0   817868.0   742460.0   \n",
       "2         61.0          46.0   183333.0   315574.0   246949.0   251184.0   \n",
       "7          7.0          10.0    78274.0   131145.0    99612.0   113886.0   \n",
       "11        13.0          20.0  4189826.0  1966556.0  4189826.0  1962579.0   \n",
       "13        10.0           7.0   407728.0   346987.0   407728.0   345979.0   \n",
       "\n",
       "                sports  gender  \n",
       "1           Basketball       1  \n",
       "2   All Track Combined       0  \n",
       "7               Tennis       0  \n",
       "11          Basketball       1  \n",
       "13                Golf       1  "
      ]
     },
     "execution_count": 84,
     "metadata": {},
     "output_type": "execute_result"
    }
   ],
   "source": [
    "# making new columns that can distinguish which revenue \n",
    "df['gender'] = np.where(df['rev_men'] > df['rev_women'], 1, 0)\n",
    "\n",
    "df.head()"
   ]
  },
  {
   "cell_type": "code",
   "execution_count": 85,
   "id": "34cc828b",
   "metadata": {},
   "outputs": [],
   "source": [
    "# delete later\n",
    "\n",
    "df = df.dropna()"
   ]
  },
  {
   "cell_type": "code",
   "execution_count": 125,
   "id": "46243590",
   "metadata": {},
   "outputs": [
    {
     "data": {
      "text/html": [
       "<div>\n",
       "<style scoped>\n",
       "    .dataframe tbody tr th:only-of-type {\n",
       "        vertical-align: middle;\n",
       "    }\n",
       "\n",
       "    .dataframe tbody tr th {\n",
       "        vertical-align: top;\n",
       "    }\n",
       "\n",
       "    .dataframe thead th {\n",
       "        text-align: right;\n",
       "    }\n",
       "</style>\n",
       "<table border=\"1\" class=\"dataframe\">\n",
       "  <thead>\n",
       "    <tr style=\"text-align: right;\">\n",
       "      <th></th>\n",
       "      <th>2016</th>\n",
       "      <th>2017</th>\n",
       "      <th>2018</th>\n",
       "      <th>2019</th>\n",
       "    </tr>\n",
       "  </thead>\n",
       "  <tbody>\n",
       "    <tr>\n",
       "      <th>1</th>\n",
       "      <td>0</td>\n",
       "      <td>0</td>\n",
       "      <td>0</td>\n",
       "      <td>0</td>\n",
       "    </tr>\n",
       "    <tr>\n",
       "      <th>2</th>\n",
       "      <td>0</td>\n",
       "      <td>0</td>\n",
       "      <td>0</td>\n",
       "      <td>0</td>\n",
       "    </tr>\n",
       "    <tr>\n",
       "      <th>7</th>\n",
       "      <td>0</td>\n",
       "      <td>0</td>\n",
       "      <td>0</td>\n",
       "      <td>0</td>\n",
       "    </tr>\n",
       "    <tr>\n",
       "      <th>11</th>\n",
       "      <td>0</td>\n",
       "      <td>0</td>\n",
       "      <td>0</td>\n",
       "      <td>0</td>\n",
       "    </tr>\n",
       "    <tr>\n",
       "      <th>13</th>\n",
       "      <td>0</td>\n",
       "      <td>0</td>\n",
       "      <td>0</td>\n",
       "      <td>0</td>\n",
       "    </tr>\n",
       "    <tr>\n",
       "      <th>...</th>\n",
       "      <td>...</td>\n",
       "      <td>...</td>\n",
       "      <td>...</td>\n",
       "      <td>...</td>\n",
       "    </tr>\n",
       "    <tr>\n",
       "      <th>132285</th>\n",
       "      <td>0</td>\n",
       "      <td>0</td>\n",
       "      <td>0</td>\n",
       "      <td>1</td>\n",
       "    </tr>\n",
       "    <tr>\n",
       "      <th>132292</th>\n",
       "      <td>0</td>\n",
       "      <td>0</td>\n",
       "      <td>0</td>\n",
       "      <td>1</td>\n",
       "    </tr>\n",
       "    <tr>\n",
       "      <th>132299</th>\n",
       "      <td>0</td>\n",
       "      <td>0</td>\n",
       "      <td>0</td>\n",
       "      <td>1</td>\n",
       "    </tr>\n",
       "    <tr>\n",
       "      <th>132302</th>\n",
       "      <td>0</td>\n",
       "      <td>0</td>\n",
       "      <td>0</td>\n",
       "      <td>1</td>\n",
       "    </tr>\n",
       "    <tr>\n",
       "      <th>132317</th>\n",
       "      <td>0</td>\n",
       "      <td>0</td>\n",
       "      <td>0</td>\n",
       "      <td>1</td>\n",
       "    </tr>\n",
       "  </tbody>\n",
       "</table>\n",
       "<p>43584 rows × 4 columns</p>\n",
       "</div>"
      ],
      "text/plain": [
       "        2016  2017  2018  2019\n",
       "1          0     0     0     0\n",
       "2          0     0     0     0\n",
       "7          0     0     0     0\n",
       "11         0     0     0     0\n",
       "13         0     0     0     0\n",
       "...      ...   ...   ...   ...\n",
       "132285     0     0     0     1\n",
       "132292     0     0     0     1\n",
       "132299     0     0     0     1\n",
       "132302     0     0     0     1\n",
       "132317     0     0     0     1\n",
       "\n",
       "[43584 rows x 4 columns]"
      ]
     },
     "execution_count": 125,
     "metadata": {},
     "output_type": "execute_result"
    }
   ],
   "source": [
    "# making dummbies for categorical values\n",
    "year = pd.get_dummies(df['year'], drop_first = True)\n",
    "state = pd.get_dummies(df['state_cd'], drop_first = True)\n",
    "classification = pd.get_dummies(df['classification_name'], drop_first = True)\n",
    "sports = pd.get_dummies(df['sports'], drop_first = True)\n",
    "\n",
    "year"
   ]
  },
  {
   "cell_type": "code",
   "execution_count": 87,
   "id": "2c815d8e",
   "metadata": {},
   "outputs": [],
   "source": [
    "# selecting only numeric columns annd dropping all rows that have na data\n",
    "\n",
    "df_cleaned = df.drop(columns = ['year', 'state_cd', 'classification_name', 'sports'])\n",
    "\n",
    "# df_cleaned = pd.concat([df_cleaned, year])\n",
    "\n",
    "\n"
   ]
  },
  {
   "cell_type": "code",
   "execution_count": 88,
   "id": "046da50a",
   "metadata": {},
   "outputs": [],
   "source": [
    "# reset index\n",
    "\n",
    "df_cleaned.reset_index(drop=True, inplace=True)\n",
    "year.reset_index(drop=True, inplace=True)\n",
    "state.reset_index(drop=True, inplace=True)\n",
    "classification.reset_index(drop=True, inplace=True)\n",
    "sports.reset_index(drop=True, inplace=True)\n",
    "\n",
    "year = year.astype(int)\n",
    "state = state.astype(int)\n",
    "classification = classification.astype(int)\n",
    "sports = sports.astype(int)\n"
   ]
  },
  {
   "cell_type": "code",
   "execution_count": 89,
   "id": "91158205",
   "metadata": {},
   "outputs": [],
   "source": [
    "# def convert(img, target_type_min, target_type_max, target_type):\n",
    "#     imin = img.min()\n",
    "#     imax = img.max()\n",
    "\n",
    "#     a = (target_type_max - target_type_min) / (imax - imin)\n",
    "#     b = target_type_max - a * imax\n",
    "#     new_img = (a * img + b).astype(target_type)\n",
    "#     return new_img\n",
    "\n",
    "# year_float = convert(year, 0, 255, np.uint8)\n",
    "\n",
    "# year_float = np.int16(year)\n",
    "\n"
   ]
  },
  {
   "cell_type": "code",
   "execution_count": 90,
   "id": "143570d7",
   "metadata": {},
   "outputs": [
    {
     "name": "stdout",
     "output_type": "stream",
     "text": [
      "Index([             'ef_male_count',            'ef_female_count',\n",
      "                       'partic_men',               'partic_women',\n",
      "                          'rev_men',                  'rev_women',\n",
      "                          'exp_men',                  'exp_women',\n",
      "                           'gender',                         2016,\n",
      "       ...\n",
      "              'Swimming and Diving',               'Table Tennis',\n",
      "                           'Tennis',    'Track and Field, Indoor',\n",
      "         'Track and Field, Outdoor', 'Track and Field, X-Country',\n",
      "                       'Volleyball',                 'Water Polo',\n",
      "                   'Weight Lifting',                  'Wrestling'],\n",
      "      dtype='object', length=113)\n"
     ]
    }
   ],
   "source": [
    "df_concat = pd.concat([df_cleaned, year, state, classification, sports], axis = 1)\n",
    "\n",
    "print(df_concat.columns)"
   ]
  },
  {
   "cell_type": "code",
   "execution_count": 91,
   "id": "1c56e271",
   "metadata": {
    "scrolled": false
   },
   "outputs": [],
   "source": [
    "# df_cleaned = df_cleaned.dropna()\n",
    "\n",
    "\n",
    "X = df_concat.drop(columns = ['gender'])\n",
    "y = df_concat['gender']\n",
    "\n",
    "X_train, X_test, y_train, y_test = train_test_split(X, y, test_size = 0.2, random_state = 42)\n",
    "\n",
    "train_df = X_train.copy()\n",
    "test_df = X_test.copy()\n"
   ]
  },
  {
   "cell_type": "code",
   "execution_count": 92,
   "id": "de7f1bf0",
   "metadata": {},
   "outputs": [
    {
     "data": {
      "text/plain": [
       "1    25489\n",
       "0    18095\n",
       "Name: gender, dtype: int64"
      ]
     },
     "execution_count": 92,
     "metadata": {},
     "output_type": "execute_result"
    }
   ],
   "source": [
    "y.value_counts()"
   ]
  },
  {
   "cell_type": "code",
   "execution_count": 93,
   "id": "25a45bf5",
   "metadata": {
    "scrolled": true
   },
   "outputs": [
    {
     "name": "stderr",
     "output_type": "stream",
     "text": [
      "/home/wooyoung/anaconda3/envs/metis/lib/python3.9/site-packages/sklearn/utils/validation.py:1688: FutureWarning: Feature names only support names that are all strings. Got feature names with dtypes: ['int', 'str']. An error will be raised in 1.2.\n",
      "  warnings.warn(\n",
      "/home/wooyoung/anaconda3/envs/metis/lib/python3.9/site-packages/sklearn/utils/validation.py:1688: FutureWarning: Feature names only support names that are all strings. Got feature names with dtypes: ['int', 'str']. An error will be raised in 1.2.\n",
      "  warnings.warn(\n"
     ]
    },
    {
     "data": {
      "text/plain": [
       "0.8901826942381048"
      ]
     },
     "execution_count": 93,
     "metadata": {},
     "output_type": "execute_result"
    }
   ],
   "source": [
    "\n",
    "\n",
    "std_scale = StandardScaler()\n",
    "\n",
    "X_train_scaled = std_scale.fit_transform(train_df)\n",
    "\n",
    "lm = LogisticRegression(max_iter = 100000)\n",
    "lm.fit(X_train_scaled, y_train)\n",
    "\n",
    "y_predict = lm.predict(X_train_scaled)\n",
    "\n",
    "lm.score(X_train_scaled, y_train)\n",
    "\n"
   ]
  },
  {
   "cell_type": "code",
   "execution_count": null,
   "id": "fbce88cb",
   "metadata": {},
   "outputs": [],
   "source": []
  },
  {
   "cell_type": "code",
   "execution_count": 94,
   "id": "8937fa40",
   "metadata": {
    "scrolled": true
   },
   "outputs": [
    {
     "name": "stderr",
     "output_type": "stream",
     "text": [
      "/home/wooyoung/anaconda3/envs/metis/lib/python3.9/site-packages/sklearn/utils/validation.py:1688: FutureWarning: Feature names only support names that are all strings. Got feature names with dtypes: ['int', 'str']. An error will be raised in 1.2.\n",
      "  warnings.warn(\n",
      "/home/wooyoung/anaconda3/envs/metis/lib/python3.9/site-packages/sklearn/utils/validation.py:1688: FutureWarning: Feature names only support names that are all strings. Got feature names with dtypes: ['int', 'str']. An error will be raised in 1.2.\n",
      "  warnings.warn(\n"
     ]
    },
    {
     "data": {
      "text/plain": [
       "0.8475392910404956"
      ]
     },
     "execution_count": 94,
     "metadata": {},
     "output_type": "execute_result"
    }
   ],
   "source": [
    "X_test_scaled = std_scale.fit_transform(test_df)\n",
    "\n",
    "lm = LogisticRegression(max_iter = 100000)\n",
    "lm.fit(X_test_scaled, y_test)\n",
    "    \n",
    "y_predict = lm.predict(X_test_scaled)\n",
    "lm.score(X_test_scaled, y_test)\n"
   ]
  },
  {
   "cell_type": "code",
   "execution_count": 120,
   "id": "535ba099",
   "metadata": {},
   "outputs": [
    {
     "name": "stdout",
     "output_type": "stream",
     "text": [
      "accuracy score is : 0.8475392910404956\n",
      "precision score is : 0.8366071428571429\n",
      "recall score is : 0.9188076093351638\n"
     ]
    }
   ],
   "source": [
    "print('accuracy score is :' , accuracy_score(y_test, y_predict))\n",
    "\n",
    "print('precision score is :', precision_score(y_test, y_predict))\n",
    "\n",
    "print('recall score is :', recall_score(y_test, y_predict))"
   ]
  },
  {
   "cell_type": "code",
   "execution_count": 95,
   "id": "4aa92337",
   "metadata": {
    "scrolled": true
   },
   "outputs": [
    {
     "name": "stdout",
     "output_type": "stream",
     "text": [
      "[0.88242042 0.8841411  0.88643533 0.89303126 0.88500143 0.88528821\n",
      " 0.87639805 0.87865749 0.88869765 0.88095238]\n",
      "cross validation mean is : 0.8841023317326006\n"
     ]
    }
   ],
   "source": [
    "# Cross validation scores\n",
    "\n",
    "lm = LogisticRegression(max_iter = 1000)\n",
    "\n",
    "\n",
    "scores = cross_val_score(lm, X_train_scaled, y_train, cv = 10, scoring = 'accuracy')\n",
    "\n",
    "\n",
    "print(scores)\n",
    "print(\"cross validation mean is :\", scores.mean())"
   ]
  },
  {
   "cell_type": "code",
   "execution_count": 96,
   "id": "aea0beb5",
   "metadata": {
    "scrolled": true
   },
   "outputs": [
    {
     "data": {
      "text/plain": [
       "0.5847936444202254"
      ]
     },
     "execution_count": 96,
     "metadata": {},
     "output_type": "execute_result"
    }
   ],
   "source": [
    "# baseline porbability\n",
    "\n",
    "baseline_prob = np.mean(y_train)\n",
    "baseline_prob"
   ]
  },
  {
   "cell_type": "code",
   "execution_count": 97,
   "id": "6f169214",
   "metadata": {
    "scrolled": false
   },
   "outputs": [],
   "source": [
    "# Tuning logistic regression hyperparameter\n",
    "\n",
    "\n",
    "\n",
    "# lm = LogisticRegression(max_iter = 100000)\n",
    "# lm.fit(X_train_scaled, y_train)\n",
    "\n",
    "# param_grid = [\n",
    "#     {'penalty' : ['l1', 'l2', 'elasticnet', 'none'],\n",
    "#     'C' : [50, 10, 1.0, 0.1, 0.01],\n",
    "#     'sovler' : ['lbfgs', 'newton-cg', 'liblinear', 'sag', 'saga'],\n",
    "#     'max_iter' : [100, 1000, 2500, 5000, 10000, 100000]}\n",
    "# ]\n",
    "\n",
    "# clf = GridSearchCV(lm, param_grid = param_grid, cv = 10, verbose = True, n_jobs = -1)\n",
    "\n",
    "# best_clf = clf.fit(X_train_scaled, y_train)\n",
    "\n"
   ]
  },
  {
   "cell_type": "code",
   "execution_count": 98,
   "id": "174d2e0a",
   "metadata": {},
   "outputs": [],
   "source": [
    "# Confusion matrix for Logistic regression\n",
    "\n",
    "#lm = LogisticRegression(max_iter = 1000)\n",
    "# lm.fit(X_train_scaled, y_train)\n",
    "\n",
    "# logistic_confusion = confusion_matrix(y_train, lm.predict(X_train_scaled))\n",
    "\n",
    "# plt.figure(dpi=150)\n",
    "\n",
    "# sns.heatmap(logistic_confusion, cmap=plt.cm.Blues, annot = True, square = True, \n",
    "#            xticklabels = df_concat['gender'],\n",
    "#            yticklabels = df_concat['gender'])"
   ]
  },
  {
   "cell_type": "code",
   "execution_count": 121,
   "id": "349b094a",
   "metadata": {
    "scrolled": true
   },
   "outputs": [
    {
     "name": "stderr",
     "output_type": "stream",
     "text": [
      "/home/wooyoung/anaconda3/envs/metis/lib/python3.9/site-packages/sklearn/utils/validation.py:1688: FutureWarning: Feature names only support names that are all strings. Got feature names with dtypes: ['int', 'str']. An error will be raised in 1.2.\n",
      "  warnings.warn(\n"
     ]
    },
    {
     "data": {
      "text/plain": [
       "RandomForestClassifier()"
      ]
     },
     "execution_count": 121,
     "metadata": {},
     "output_type": "execute_result"
    }
   ],
   "source": [
    "# Randomforest\n",
    "\n",
    "random = RandomForestClassifier()\n",
    "random.fit(X_train, y_train)\n"
   ]
  },
  {
   "cell_type": "code",
   "execution_count": 101,
   "id": "6bee54d4",
   "metadata": {
    "collapsed": true
   },
   "outputs": [
    {
     "name": "stderr",
     "output_type": "stream",
     "text": [
      "/home/wooyoung/anaconda3/envs/metis/lib/python3.9/site-packages/sklearn/utils/validation.py:1688: FutureWarning: Feature names only support names that are all strings. Got feature names with dtypes: ['int', 'str']. An error will be raised in 1.2.\n",
      "  warnings.warn(\n",
      "/home/wooyoung/anaconda3/envs/metis/lib/python3.9/site-packages/sklearn/utils/validation.py:1688: FutureWarning: Feature names only support names that are all strings. Got feature names with dtypes: ['int', 'str']. An error will be raised in 1.2.\n",
      "  warnings.warn(\n",
      "/home/wooyoung/anaconda3/envs/metis/lib/python3.9/site-packages/sklearn/utils/validation.py:1688: FutureWarning: Feature names only support names that are all strings. Got feature names with dtypes: ['int', 'str']. An error will be raised in 1.2.\n",
      "  warnings.warn(\n",
      "/home/wooyoung/anaconda3/envs/metis/lib/python3.9/site-packages/sklearn/utils/validation.py:1688: FutureWarning: Feature names only support names that are all strings. Got feature names with dtypes: ['int', 'str']. An error will be raised in 1.2.\n",
      "  warnings.warn(\n",
      "/home/wooyoung/anaconda3/envs/metis/lib/python3.9/site-packages/sklearn/utils/validation.py:1688: FutureWarning: Feature names only support names that are all strings. Got feature names with dtypes: ['int', 'str']. An error will be raised in 1.2.\n",
      "  warnings.warn(\n",
      "/home/wooyoung/anaconda3/envs/metis/lib/python3.9/site-packages/sklearn/utils/validation.py:1688: FutureWarning: Feature names only support names that are all strings. Got feature names with dtypes: ['int', 'str']. An error will be raised in 1.2.\n",
      "  warnings.warn(\n",
      "/home/wooyoung/anaconda3/envs/metis/lib/python3.9/site-packages/sklearn/utils/validation.py:1688: FutureWarning: Feature names only support names that are all strings. Got feature names with dtypes: ['int', 'str']. An error will be raised in 1.2.\n",
      "  warnings.warn(\n",
      "/home/wooyoung/anaconda3/envs/metis/lib/python3.9/site-packages/sklearn/utils/validation.py:1688: FutureWarning: Feature names only support names that are all strings. Got feature names with dtypes: ['int', 'str']. An error will be raised in 1.2.\n",
      "  warnings.warn(\n",
      "/home/wooyoung/anaconda3/envs/metis/lib/python3.9/site-packages/sklearn/utils/validation.py:1688: FutureWarning: Feature names only support names that are all strings. Got feature names with dtypes: ['int', 'str']. An error will be raised in 1.2.\n",
      "  warnings.warn(\n",
      "/home/wooyoung/anaconda3/envs/metis/lib/python3.9/site-packages/sklearn/utils/validation.py:1688: FutureWarning: Feature names only support names that are all strings. Got feature names with dtypes: ['int', 'str']. An error will be raised in 1.2.\n",
      "  warnings.warn(\n",
      "/home/wooyoung/anaconda3/envs/metis/lib/python3.9/site-packages/sklearn/utils/validation.py:1688: FutureWarning: Feature names only support names that are all strings. Got feature names with dtypes: ['int', 'str']. An error will be raised in 1.2.\n",
      "  warnings.warn(\n",
      "/home/wooyoung/anaconda3/envs/metis/lib/python3.9/site-packages/sklearn/utils/validation.py:1688: FutureWarning: Feature names only support names that are all strings. Got feature names with dtypes: ['int', 'str']. An error will be raised in 1.2.\n",
      "  warnings.warn(\n",
      "/home/wooyoung/anaconda3/envs/metis/lib/python3.9/site-packages/sklearn/utils/validation.py:1688: FutureWarning: Feature names only support names that are all strings. Got feature names with dtypes: ['int', 'str']. An error will be raised in 1.2.\n",
      "  warnings.warn(\n",
      "/home/wooyoung/anaconda3/envs/metis/lib/python3.9/site-packages/sklearn/utils/validation.py:1688: FutureWarning: Feature names only support names that are all strings. Got feature names with dtypes: ['int', 'str']. An error will be raised in 1.2.\n",
      "  warnings.warn(\n",
      "/home/wooyoung/anaconda3/envs/metis/lib/python3.9/site-packages/sklearn/utils/validation.py:1688: FutureWarning: Feature names only support names that are all strings. Got feature names with dtypes: ['int', 'str']. An error will be raised in 1.2.\n",
      "  warnings.warn(\n",
      "/home/wooyoung/anaconda3/envs/metis/lib/python3.9/site-packages/sklearn/utils/validation.py:1688: FutureWarning: Feature names only support names that are all strings. Got feature names with dtypes: ['int', 'str']. An error will be raised in 1.2.\n",
      "  warnings.warn(\n",
      "/home/wooyoung/anaconda3/envs/metis/lib/python3.9/site-packages/sklearn/utils/validation.py:1688: FutureWarning: Feature names only support names that are all strings. Got feature names with dtypes: ['int', 'str']. An error will be raised in 1.2.\n",
      "  warnings.warn(\n",
      "/home/wooyoung/anaconda3/envs/metis/lib/python3.9/site-packages/sklearn/utils/validation.py:1688: FutureWarning: Feature names only support names that are all strings. Got feature names with dtypes: ['int', 'str']. An error will be raised in 1.2.\n",
      "  warnings.warn(\n",
      "/home/wooyoung/anaconda3/envs/metis/lib/python3.9/site-packages/sklearn/utils/validation.py:1688: FutureWarning: Feature names only support names that are all strings. Got feature names with dtypes: ['int', 'str']. An error will be raised in 1.2.\n",
      "  warnings.warn(\n",
      "/home/wooyoung/anaconda3/envs/metis/lib/python3.9/site-packages/sklearn/utils/validation.py:1688: FutureWarning: Feature names only support names that are all strings. Got feature names with dtypes: ['int', 'str']. An error will be raised in 1.2.\n",
      "  warnings.warn(\n",
      "/home/wooyoung/anaconda3/envs/metis/lib/python3.9/site-packages/sklearn/utils/validation.py:1688: FutureWarning: Feature names only support names that are all strings. Got feature names with dtypes: ['int', 'str']. An error will be raised in 1.2.\n",
      "  warnings.warn(\n"
     ]
    }
   ],
   "source": [
    "\n",
    "random_predict = random.predict(X_train)\n",
    "\n",
    "\n",
    "r_val_scores = cross_val_score(random, X_train, y_train, cv=10, scoring = 'accuracy')"
   ]
  },
  {
   "cell_type": "code",
   "execution_count": 124,
   "id": "78b95172",
   "metadata": {},
   "outputs": [
    {
     "name": "stderr",
     "output_type": "stream",
     "text": [
      "/home/wooyoung/anaconda3/envs/metis/lib/python3.9/site-packages/sklearn/utils/validation.py:1688: FutureWarning: Feature names only support names that are all strings. Got feature names with dtypes: ['int', 'str']. An error will be raised in 1.2.\n",
      "  warnings.warn(\n"
     ]
    },
    {
     "data": {
      "text/plain": [
       "1.0"
      ]
     },
     "execution_count": 124,
     "metadata": {},
     "output_type": "execute_result"
    }
   ],
   "source": [
    "r_scores = random.score(X_train, y_train)\n",
    "r_scores"
   ]
  },
  {
   "cell_type": "code",
   "execution_count": 102,
   "id": "9b8a3ab3",
   "metadata": {},
   "outputs": [
    {
     "name": "stdout",
     "output_type": "stream",
     "text": [
      "random forest cross validation score is : 0.8900105975131629\n"
     ]
    }
   ],
   "source": [
    "# print('random forest score is :', r_scores)\n",
    "print('random forest cross validation score is :', r_val_scores.mean())"
   ]
  },
  {
   "cell_type": "code",
   "execution_count": 111,
   "id": "1c191eb9",
   "metadata": {},
   "outputs": [],
   "source": [
    "graph_x = ['baseline', 'LR', 'RF']\n",
    "graph_y = [baseline_prob, scores.mean(), r_val_scores.mean()]"
   ]
  },
  {
   "cell_type": "code",
   "execution_count": 112,
   "id": "14fc8ef6",
   "metadata": {},
   "outputs": [],
   "source": [
    "ypos = np.arange(len(graph_x))"
   ]
  },
  {
   "cell_type": "code",
   "execution_count": 115,
   "id": "91574252",
   "metadata": {},
   "outputs": [
    {
     "data": {
      "text/plain": [
       "<BarContainer object of 3 artists>"
      ]
     },
     "execution_count": 115,
     "metadata": {},
     "output_type": "execute_result"
    },
    {
     "data": {
      "image/png": "[encoded data removed]",
      "text/plain": [
       "<Figure size 432x288 with 1 Axes>"
      ]
     },
     "metadata": {
      "needs_background": "light"
     },
     "output_type": "display_data"
    }
   ],
   "source": [
    "plt.xticks(ypos, graph_x)\n",
    "plt.xlabel('Tested model')\n",
    "plt.ylabel('Accuracy')\n",
    "plt.title('Accuracy of each tested model')\n",
    "plt.bar(ypos, graph_y)"
   ]
  },
  {
   "cell_type": "code",
   "execution_count": null,
   "id": "9f2ec970",
   "metadata": {},
   "outputs": [],
   "source": []
  },
  {
   "cell_type": "code",
   "execution_count": null,
   "id": "94f70e8a",
   "metadata": {},
   "outputs": [],
   "source": []
  }
 ],
 "metadata": {
  "kernelspec": {
   "display_name": "Python 3 (ipykernel)",
   "language": "python",
   "name": "python3"
  },
  "language_info": {
   "codemirror_mode": {
    "name": "ipython",
    "version": 3
   },
   "file_extension": ".py",
   "mimetype": "text/x-python",
   "name": "python",
   "nbconvert_exporter": "python",
   "pygments_lexer": "ipython3",
   "version": "3.9.10"
  }
 },
 "nbformat": 4,
 "nbformat_minor": 5
}
